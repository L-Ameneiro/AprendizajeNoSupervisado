{
 "cells": [
  {
   "cell_type": "code",
   "execution_count": 2,
   "id": "1ba41726",
   "metadata": {},
   "outputs": [],
   "source": [
    "import numpy as np\n",
    "import pandas as pd\n",
    "pd.set_option('display.max_columns',100)\n",
    "pd.set_option('display.max_rows',1000)\n",
    "import itertools\n",
    "import warnings\n",
    "warnings.filterwarnings(\"ignore\")\n",
    "import io"
   ]
  },
  {
   "cell_type": "code",
   "execution_count": 3,
   "id": "3652c103",
   "metadata": {},
   "outputs": [
    {
     "data": {
      "text/html": [
       "        <script type=\"text/javascript\">\n",
       "        window.PlotlyConfig = {MathJaxConfig: 'local'};\n",
       "        if (window.MathJax && window.MathJax.Hub && window.MathJax.Hub.Config) {window.MathJax.Hub.Config({SVG: {font: \"STIX-Web\"}});}\n",
       "        </script>\n",
       "        <script type=\"module\">import \"https://cdn.plot.ly/plotly-3.1.0.min\"</script>\n",
       "        "
      ]
     },
     "metadata": {},
     "output_type": "display_data"
    }
   ],
   "source": [
    "from plotly.offline import init_notebook_mode, plot,iplot\n",
    "import plotly.graph_objs as go\n",
    "init_notebook_mode(connected=True)\n",
    "import matplotlib.pyplot as plt\n",
    "import matplotlib.ticker as ticker\n",
    "import plotly.tools as tls#visualization\n",
    "import plotly.figure_factory as ff#visualization\n",
    "import seaborn as sns\n",
    "import math"
   ]
  },
  {
   "cell_type": "code",
   "execution_count": 4,
   "id": "35d64258",
   "metadata": {},
   "outputs": [],
   "source": [
    "from sklearn.cluster import KMeans,MeanShift\n",
    "from sklearn import decomposition"
   ]
  },
  {
   "cell_type": "code",
   "execution_count": 5,
   "id": "03bb696d",
   "metadata": {},
   "outputs": [
    {
     "data": {
      "text/plain": [
       "(16161, 58)"
      ]
     },
     "execution_count": 5,
     "metadata": {},
     "output_type": "execute_result"
    }
   ],
   "source": [
    "df = pd.read_csv('../data/male_players.csv')\n",
    "df.shape"
   ]
  },
  {
   "cell_type": "code",
   "execution_count": 9,
   "id": "8324671b",
   "metadata": {},
   "outputs": [
    {
     "data": {
      "text/plain": [
       "array(['LALIGA EA SPORTS', 'Premier League', 'Bundesliga',\n",
       "       \"Ligue 1 McDonald's\", 'Serie A Enilive', 'MLS',\n",
       "       'ROSHN Saudi League', 'Liga Portugal', 'Libertadores', 'Serie BKT',\n",
       "       'Trendyol Süper Lig', 'Eredivisie', '1A Pro League',\n",
       "       'Liga Hrvatska', 'Scottish Prem', 'Primera División',\n",
       "       'Hellas Liga', 'United Emirates League', 'Česká Liga',\n",
       "       'Magyar Liga', 'CSL', 'Sudamericana', 'Ukrayina Liha',\n",
       "       'LALIGA HYPERMOTION', 'Ö. Bundesliga', 'EFL Championship',\n",
       "       'Ligue 2 BKT', 'Liga Colombia', 'Bundesliga 2', 'Eliteserien',\n",
       "       '3F Superliga', 'K League 1', 'CSSL', 'PKO BP Ekstraklasa',\n",
       "       'A-League', 'Allsvenskan', 'Liga Cyprus', 'Liga Azerbaijan',\n",
       "       'SUPERLIGA', 'EFL League One', 'ISL', '3. Liga',\n",
       "       'SSE Airtricity PD', 'EFL League Two', 'Finnliiga'], dtype=object)"
      ]
     },
     "execution_count": 9,
     "metadata": {},
     "output_type": "execute_result"
    }
   ],
   "source": [
    "df['League'].unique()"
   ]
  },
  {
   "cell_type": "code",
   "execution_count": null,
   "id": "f51467e2",
   "metadata": {},
   "outputs": [
    {
     "ename": "SyntaxError",
     "evalue": "invalid syntax (3772418977.py, line 2)",
     "output_type": "error",
     "traceback": [
      "  \u001b[36mCell\u001b[39m\u001b[36m \u001b[39m\u001b[32mIn[7]\u001b[39m\u001b[32m, line 2\u001b[39m\n\u001b[31m    \u001b[39m\u001b[31mdf['League'] ==\u001b[39m\n                    ^\n\u001b[31mSyntaxError\u001b[39m\u001b[31m:\u001b[39m invalid syntax\n"
     ]
    }
   ],
   "source": [
    "leagues = ['Premier League', 'LALIGA EA SPORTS', 'Serie A Enilive']\n",
    "df['League'] == "
   ]
  }
 ],
 "metadata": {
  "kernelspec": {
   "display_name": ".venv",
   "language": "python",
   "name": "python3"
  },
  "language_info": {
   "codemirror_mode": {
    "name": "ipython",
    "version": 3
   },
   "file_extension": ".py",
   "mimetype": "text/x-python",
   "name": "python",
   "nbconvert_exporter": "python",
   "pygments_lexer": "ipython3",
   "version": "3.12.11"
  }
 },
 "nbformat": 4,
 "nbformat_minor": 5
}
